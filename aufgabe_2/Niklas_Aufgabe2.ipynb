{
 "metadata": {
  "language_info": {
   "codemirror_mode": {
    "name": "ipython",
    "version": 3
   },
   "file_extension": ".py",
   "mimetype": "text/x-python",
   "name": "python",
   "nbconvert_exporter": "python",
   "pygments_lexer": "ipython3",
   "version": "3.9.1-final"
  },
  "orig_nbformat": 2,
  "kernelspec": {
   "name": "python3",
   "display_name": "Python 3.9.1 64-bit",
   "metadata": {
    "interpreter": {
     "hash": "aee8b7b246df8f9039afb4144a1f6fd8d2ca17a180786b69acc140d282b71a49"
    }
   }
  }
 },
 "nbformat": 4,
 "nbformat_minor": 2,
 "cells": [
  {
   "cell_type": "code",
   "execution_count": 1,
   "metadata": {},
   "outputs": [],
   "source": [
    "import pandas as pd\n",
    "import seaborn as sns\n",
    "import matplotlib.pyplot as plt\n",
    "import numpy as np\n",
    "from sklearn.ensemble import RandomForestClassifier\n",
    "from sklearn.svm import SVC\n",
    "from sklearn import svm\n",
    "from sklearn.neural_network import MLPClassifier\n",
    "from sklearn.metrics import confusion_matrix, classification_report, accuracy_score, roc_auc_score\n",
    "from sklearn.preprocessing import StandardScaler, LabelEncoder\n",
    "from sklearn.model_selection import train_test_split\n",
    "from sklearn.impute import SimpleImputer\n",
    "import math\n",
    "import pickle\n",
    "import Niklas_Prepare_Data as npd"
   ]
  },
  {
   "cell_type": "code",
   "execution_count": 2,
   "metadata": {
    "tags": []
   },
   "outputs": [
    {
     "output_type": "stream",
     "name": "stdout",
     "text": [
      "Finish strip_1_train\n",
      "Finish strip_2_train\n",
      "Finish strip_3_train\n",
      "Finish strip_4_train\n"
     ]
    }
   ],
   "source": [
    "# Prepare stirps to use them later\n",
    "npd.prepare_all_data(False)"
   ]
  },
  {
   "cell_type": "code",
   "execution_count": 36,
   "metadata": {},
   "outputs": [],
   "source": [
    "def load_model(x: int):\n",
    "    with open(\"./model/model_%i.bin\" % x, 'rb') as file:\n",
    "        clf = pickle.load(file)\n",
    "    return clf"
   ]
  },
  {
   "cell_type": "code",
   "execution_count": 37,
   "metadata": {},
   "outputs": [
    {
     "output_type": "execute_result",
     "data": {
      "text/plain": [
       "RandomForestClassifier(n_estimators=200, random_state=0)"
      ]
     },
     "metadata": {},
     "execution_count": 37
    }
   ],
   "source": [
    "load_model(2) "
   ]
  },
  {
   "cell_type": "code",
   "execution_count": 40,
   "metadata": {},
   "outputs": [],
   "source": [
    "output_dir = '../data/fixed_train1/'"
   ]
  },
  {
   "cell_type": "code",
   "execution_count": 93,
   "metadata": {},
   "outputs": [],
   "source": [
    "def load_strip_pkl(path: str)-> pd.DataFrame: \n",
    "    return pd.read_pickle(path)\n",
    "\n",
    "def save_strip_pkl(data: pd.DataFrame, outdir: str, outname: str):\n",
    "    if not os.path.exists(outdir):\n",
    "        os.mkdir(outdir)\n",
    "\n",
    "    fullname = os.path.join(outdir, outname)    \n",
    "\n",
    "    data.to_pickle(fullname)\n",
    "\n",
    "def load_strip_csv(path: str)-> pd.DataFrame: \n",
    "    return pd.read_csv(path, sep=',')\n",
    "\n",
    "def save_strip_csv(data: pd.DataFrame, outdir: str, outname: str):\n",
    "    if not os.path.exists(outdir):\n",
    "        os.mkdir(outdir)\n",
    "\n",
    "    fullname = os.path.join(outdir, outname)    \n",
    "\n",
    "    data.to_csv(fullname, sep=',')\n",
    "# format table to use it for classifier\n",
    "def split_data(df: pd.DataFrame) -> pd.DataFrame:\n",
    "    columns = [\"ax\", \"ay\", \"az\", \"gx\", \"gy\", \"gz\", \"mx\", \"my\", \"mz\", \"r\"] # \"strip_id\", \"timestamp\", \n",
    "    newColumns = range(1,16)\n",
    "    df2 = pd.DataFrame()\n",
    "    for c in columns:\n",
    "        cols = list(map(lambda x: c+str(x), newColumns))\n",
    "        new_df = pd.DataFrame(df[c].to_list(), columns=cols)\n",
    "        df2 = pd.concat([df2, new_df], axis=1)\n",
    "    # add near column \n",
    "    df2['vicon_x'] = pd.DataFrame(df['vicon_x'].values.tolist()).agg('max', axis=1)\n",
    "    df2['vicon_y'] = pd.DataFrame(df['vicon_y'].values.tolist()).agg('max', axis=1)\n",
    "    df2['near'] = pd.DataFrame(df['near'].values.tolist()).agg('max', axis=1)\n",
    "    return df2\n",
    "\n",
    "def prepare_training_data(df: pd.DataFrame) -> (pd.DataFrame, pd.DataFrame):\n",
    "    df = split_data(df)\n",
    "    #Alle frames entfernen, wo near = 0\n",
    "    df = df[df.near != 0]\n",
    "\n",
    "    X_train = df.drop('vicon_x',axis = 1).drop('vicon_y',axis = 1).drop('near',axis = 1)\n",
    "    X_train.fillna(X_train.mean(), inplace=True)\n",
    "    Y_train = df[['vicon_x', 'vicon_y']]\n",
    "    Y_train.fillna(Y_train.mean(), inplace=True)\n",
    "    \n",
    "    sc = StandardScaler()\n",
    "    sc.fit(X_train)\n",
    "    X_train_transformed = sc.transform(X_train)\n",
    "\n",
    "    return X_train_transformed, Y_train"
   ]
  },
  {
   "cell_type": "code",
   "execution_count": 98,
   "metadata": {},
   "outputs": [
    {
     "output_type": "stream",
     "name": "stdout",
     "text": [
      "mse 0.03341118833105259\n"
     ]
    }
   ],
   "source": [
    "# Read tranformed data\n",
    "for i in range(2, 3):\n",
    "    df = load_strip_pkl(output_dir+'strip_%i_train.pkl' % i)\n",
    "    X_train, Y_train = prepare_training_data(df)\n",
    "\n",
    "    X_train1, X_test1, Y_train1, Y_test1 = train_test_split(X_train, Y_train, test_size=0.05)   \n",
    "\n",
    "    from sklearn.ensemble import RandomForestRegressor\n",
    "    from sklearn.metrics import mean_squared_error\n",
    "    \n",
    "    forest = RandomForestRegressor(n_estimators=200, random_state = 0)\n",
    "    forest.fit(X_train1, Y_train1)\n",
    "\n",
    "    prediction = forest.predict(X_test1)\n",
    "            \n",
    "    score = mean_squared_error(Y_test1, prediction)\n",
    "    print(\"mse \" + str(score))"
   ]
  },
  {
   "cell_type": "code",
   "execution_count": 95,
   "metadata": {},
   "outputs": [],
   "source": []
  }
 ]
}
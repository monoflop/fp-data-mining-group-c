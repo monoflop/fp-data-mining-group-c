{
 "cells": [
  {
   "cell_type": "code",
   "execution_count": 1,
   "metadata": {},
   "outputs": [],
   "source": [
    "#Abhängigkeiten\n",
    "import pandas as pd\n",
    "import seaborn as sns\n",
    "import matplotlib.pyplot as plt\n",
    "from sklearn.ensemble import RandomForestClassifier\n",
    "from sklearn.metrics import confusion_matrix, classification_report, accuracy_score\n",
    "from sklearn.preprocessing import StandardScaler\n",
    "from sklearn.model_selection import train_test_split\n",
    "%matplotlib inline\n"
   ]
  },
  {
   "cell_type": "code",
   "execution_count": 2,
   "metadata": {},
   "outputs": [],
   "source": [
    "#Daten laden\n",
    "#strip_1 enthält keine near Einträge mit 1.0?\n",
    "strip = pd.read_csv('data/train/strip_2_train.csv', sep=',')"
   ]
  },
  {
   "cell_type": "code",
   "execution_count": 3,
   "metadata": {},
   "outputs": [
    {
     "data": {
      "text/html": [
       "<div>\n",
       "<style scoped>\n",
       "    .dataframe tbody tr th:only-of-type {\n",
       "        vertical-align: middle;\n",
       "    }\n",
       "\n",
       "    .dataframe tbody tr th {\n",
       "        vertical-align: top;\n",
       "    }\n",
       "\n",
       "    .dataframe thead th {\n",
       "        text-align: right;\n",
       "    }\n",
       "</style>\n",
       "<table border=\"1\" class=\"dataframe\">\n",
       "  <thead>\n",
       "    <tr style=\"text-align: right;\">\n",
       "      <th></th>\n",
       "      <th>frame_number</th>\n",
       "      <th>strip_id</th>\n",
       "      <th>node_id</th>\n",
       "      <th>timestamp</th>\n",
       "      <th>run_number</th>\n",
       "      <th>ax</th>\n",
       "      <th>ay</th>\n",
       "      <th>az</th>\n",
       "      <th>gx</th>\n",
       "      <th>gy</th>\n",
       "      <th>gz</th>\n",
       "      <th>mx</th>\n",
       "      <th>my</th>\n",
       "      <th>mz</th>\n",
       "      <th>r</th>\n",
       "      <th>near</th>\n",
       "      <th>vicon_x</th>\n",
       "      <th>vicon_y</th>\n",
       "    </tr>\n",
       "  </thead>\n",
       "  <tbody>\n",
       "    <tr>\n",
       "      <th>0</th>\n",
       "      <td>0</td>\n",
       "      <td>2</td>\n",
       "      <td>1</td>\n",
       "      <td>2020-08-05 14:01:18.979</td>\n",
       "      <td>0</td>\n",
       "      <td>0.002070</td>\n",
       "      <td>0.000412</td>\n",
       "      <td>-0.002347</td>\n",
       "      <td>-0.068564</td>\n",
       "      <td>0.041196</td>\n",
       "      <td>0.048849</td>\n",
       "      <td>-0.278804</td>\n",
       "      <td>-0.128186</td>\n",
       "      <td>1.461713</td>\n",
       "      <td>-88.0</td>\n",
       "      <td>1.0</td>\n",
       "      <td>-9.986354</td>\n",
       "      <td>4.972623</td>\n",
       "    </tr>\n",
       "    <tr>\n",
       "      <th>1</th>\n",
       "      <td>0</td>\n",
       "      <td>2</td>\n",
       "      <td>2</td>\n",
       "      <td>2020-08-05 14:01:18.936</td>\n",
       "      <td>0</td>\n",
       "      <td>-0.002325</td>\n",
       "      <td>0.000443</td>\n",
       "      <td>0.003013</td>\n",
       "      <td>-0.000075</td>\n",
       "      <td>0.128002</td>\n",
       "      <td>0.125439</td>\n",
       "      <td>0.837867</td>\n",
       "      <td>0.460412</td>\n",
       "      <td>-0.301495</td>\n",
       "      <td>-79.0</td>\n",
       "      <td>1.0</td>\n",
       "      <td>-9.986354</td>\n",
       "      <td>4.972623</td>\n",
       "    </tr>\n",
       "    <tr>\n",
       "      <th>2</th>\n",
       "      <td>0</td>\n",
       "      <td>2</td>\n",
       "      <td>3</td>\n",
       "      <td>2020-08-05 14:01:19.042</td>\n",
       "      <td>0</td>\n",
       "      <td>-0.004523</td>\n",
       "      <td>0.002487</td>\n",
       "      <td>0.004086</td>\n",
       "      <td>-0.173151</td>\n",
       "      <td>-0.018156</td>\n",
       "      <td>-0.024630</td>\n",
       "      <td>-6.094392</td>\n",
       "      <td>-3.718103</td>\n",
       "      <td>-1.399821</td>\n",
       "      <td>-65.0</td>\n",
       "      <td>1.0</td>\n",
       "      <td>-9.986354</td>\n",
       "      <td>4.972623</td>\n",
       "    </tr>\n",
       "    <tr>\n",
       "      <th>3</th>\n",
       "      <td>0</td>\n",
       "      <td>2</td>\n",
       "      <td>4</td>\n",
       "      <td>2020-08-05 14:01:19.003</td>\n",
       "      <td>0</td>\n",
       "      <td>-0.001163</td>\n",
       "      <td>0.004049</td>\n",
       "      <td>0.005012</td>\n",
       "      <td>-0.093426</td>\n",
       "      <td>0.068027</td>\n",
       "      <td>0.001385</td>\n",
       "      <td>3.227061</td>\n",
       "      <td>-1.346923</td>\n",
       "      <td>-1.629055</td>\n",
       "      <td>-49.0</td>\n",
       "      <td>1.0</td>\n",
       "      <td>-9.986354</td>\n",
       "      <td>4.972623</td>\n",
       "    </tr>\n",
       "    <tr>\n",
       "      <th>4</th>\n",
       "      <td>0</td>\n",
       "      <td>2</td>\n",
       "      <td>5</td>\n",
       "      <td>2020-08-05 14:01:19.046</td>\n",
       "      <td>0</td>\n",
       "      <td>-0.002822</td>\n",
       "      <td>0.002234</td>\n",
       "      <td>0.005050</td>\n",
       "      <td>-0.083727</td>\n",
       "      <td>0.085938</td>\n",
       "      <td>-0.028948</td>\n",
       "      <td>1.302266</td>\n",
       "      <td>0.977920</td>\n",
       "      <td>-0.299323</td>\n",
       "      <td>-74.0</td>\n",
       "      <td>1.0</td>\n",
       "      <td>-9.986354</td>\n",
       "      <td>4.972623</td>\n",
       "    </tr>\n",
       "  </tbody>\n",
       "</table>\n",
       "</div>"
      ],
      "text/plain": [
       "   frame_number  strip_id  node_id                timestamp  run_number  \\\n",
       "0             0         2        1  2020-08-05 14:01:18.979           0   \n",
       "1             0         2        2  2020-08-05 14:01:18.936           0   \n",
       "2             0         2        3  2020-08-05 14:01:19.042           0   \n",
       "3             0         2        4  2020-08-05 14:01:19.003           0   \n",
       "4             0         2        5  2020-08-05 14:01:19.046           0   \n",
       "\n",
       "         ax        ay        az        gx        gy        gz        mx  \\\n",
       "0  0.002070  0.000412 -0.002347 -0.068564  0.041196  0.048849 -0.278804   \n",
       "1 -0.002325  0.000443  0.003013 -0.000075  0.128002  0.125439  0.837867   \n",
       "2 -0.004523  0.002487  0.004086 -0.173151 -0.018156 -0.024630 -6.094392   \n",
       "3 -0.001163  0.004049  0.005012 -0.093426  0.068027  0.001385  3.227061   \n",
       "4 -0.002822  0.002234  0.005050 -0.083727  0.085938 -0.028948  1.302266   \n",
       "\n",
       "         my        mz     r  near   vicon_x   vicon_y  \n",
       "0 -0.128186  1.461713 -88.0   1.0 -9.986354  4.972623  \n",
       "1  0.460412 -0.301495 -79.0   1.0 -9.986354  4.972623  \n",
       "2 -3.718103 -1.399821 -65.0   1.0 -9.986354  4.972623  \n",
       "3 -1.346923 -1.629055 -49.0   1.0 -9.986354  4.972623  \n",
       "4  0.977920 -0.299323 -74.0   1.0 -9.986354  4.972623  "
      ]
     },
     "execution_count": 3,
     "metadata": {},
     "output_type": "execute_result"
    }
   ],
   "source": [
    "#Ersten paar Einträge des Datensatzes ausgeben\n",
    "strip.head()"
   ]
  },
  {
   "cell_type": "code",
   "execution_count": 4,
   "metadata": {},
   "outputs": [
    {
     "name": "stdout",
     "output_type": "stream",
     "text": [
      "<class 'pandas.core.frame.DataFrame'>\n",
      "RangeIndex: 350940 entries, 0 to 350939\n",
      "Data columns (total 18 columns):\n",
      " #   Column        Non-Null Count   Dtype  \n",
      "---  ------        --------------   -----  \n",
      " 0   frame_number  350940 non-null  int64  \n",
      " 1   strip_id      350940 non-null  int64  \n",
      " 2   node_id       350940 non-null  int64  \n",
      " 3   timestamp     350940 non-null  object \n",
      " 4   run_number    350940 non-null  int64  \n",
      " 5   ax            350940 non-null  float64\n",
      " 6   ay            350940 non-null  float64\n",
      " 7   az            350940 non-null  float64\n",
      " 8   gx            350940 non-null  float64\n",
      " 9   gy            350940 non-null  float64\n",
      " 10  gz            350940 non-null  float64\n",
      " 11  mx            350940 non-null  float64\n",
      " 12  my            350940 non-null  float64\n",
      " 13  mz            350940 non-null  float64\n",
      " 14  r             182460 non-null  float64\n",
      " 15  near          350940 non-null  float64\n",
      " 16  vicon_x       350940 non-null  float64\n",
      " 17  vicon_y       350940 non-null  float64\n",
      "dtypes: float64(13), int64(4), object(1)\n",
      "memory usage: 48.2+ MB\n"
     ]
    }
   ],
   "source": [
    "strip.info()"
   ]
  },
  {
   "cell_type": "code",
   "execution_count": 5,
   "metadata": {},
   "outputs": [
    {
     "data": {
      "text/plain": [
       "0.0    333150\n",
       "1.0     17790\n",
       "Name: near, dtype: int64"
      ]
     },
     "execution_count": 5,
     "metadata": {},
     "output_type": "execute_result"
    }
   ],
   "source": [
    "strip['near'].value_counts()"
   ]
  },
  {
   "cell_type": "code",
   "execution_count": 6,
   "metadata": {},
   "outputs": [
    {
     "name": "stderr",
     "output_type": "stream",
     "text": [
      "/home/monoflop/.local/lib/python3.7/site-packages/seaborn/_decorators.py:43: FutureWarning: Pass the following variable as a keyword arg: x. From version 0.12, the only valid positional argument will be `data`, and passing other arguments without an explicit keyword will result in an error or misinterpretation.\n",
      "  FutureWarning\n"
     ]
    },
    {
     "data": {
      "text/plain": [
       "<AxesSubplot:xlabel='near', ylabel='count'>"
      ]
     },
     "execution_count": 6,
     "metadata": {},
     "output_type": "execute_result"
    },
    {
     "data": {
      "image/png": "[encoded data removed]",
      "text/plain": [
       "<Figure size 432x288 with 1 Axes>"
      ]
     },
     "metadata": {
      "needs_background": "light"
     },
     "output_type": "display_data"
    }
   ],
   "source": [
    "sns.countplot(strip['near'])"
   ]
  },
  {
   "cell_type": "code",
   "execution_count": 7,
   "metadata": {},
   "outputs": [],
   "source": [
    "#Label aus Datensatz entfernen, damit wir einen Label-Satz und einen Feature-Satz erhalten.\n",
    "X = strip.drop('near',axis = 1)\n",
    "Y = strip['near']\n",
    "\n",
    "#Alle nicht Sensordaten entfernen\n",
    "X = X.drop('frame_number',axis = 1)\n",
    "X = X.drop('strip_id',axis = 1)\n",
    "X = X.drop('node_id',axis = 1)\n",
    "X = X.drop('timestamp',axis = 1)\n",
    "X = X.drop('run_number',axis = 1)\n",
    "X = X.drop('vicon_x',axis = 1)\n",
    "X = X.drop('vicon_y',axis = 1)\n",
    "\n",
    "#NaN Werte normalisieren\n",
    "X = X.fillna(X.mean())"
   ]
  },
  {
   "cell_type": "code",
   "execution_count": 8,
   "metadata": {},
   "outputs": [],
   "source": [
    "#Training- und Test-Splits erstellen\n",
    "#75% Trainingsdaten und 25% Testdaten\n",
    "X_train, X_test, Y_train, Y_test = train_test_split(X, Y, test_size = 0.25, random_state = 0)"
   ]
  },
  {
   "cell_type": "code",
   "execution_count": 9,
   "metadata": {},
   "outputs": [],
   "source": [
    "#Daten einheitlich skalieren von z. B. 0.0 - 1.0\n",
    "sc = StandardScaler()\n",
    "sc.fit(X_train)\n",
    "X_train = sc.transform(X_train)\n",
    "X_test = sc.transform(X_test)"
   ]
  },
  {
   "cell_type": "code",
   "execution_count": 10,
   "metadata": {},
   "outputs": [],
   "source": [
    "#Random Forest\n",
    "forest = RandomForestClassifier(n_estimators=200, random_state = 0)\n",
    "forest.fit(X_train, Y_train)\n",
    "forest_prediction = forest.predict(X_test)"
   ]
  },
  {
   "cell_type": "code",
   "execution_count": 11,
   "metadata": {},
   "outputs": [
    {
     "name": "stdout",
     "output_type": "stream",
     "text": [
      "              precision    recall  f1-score   support\n",
      "\n",
      "         0.0       0.97      1.00      0.98     84084\n",
      "         1.0       0.75      0.19      0.30      3651\n",
      "\n",
      "    accuracy                           0.96     87735\n",
      "   macro avg       0.86      0.59      0.64     87735\n",
      "weighted avg       0.96      0.96      0.95     87735\n",
      "\n",
      "[[83851   233]\n",
      " [ 2960   691]]\n",
      "\n",
      "Accuracy = 0.9636063144697099\n"
     ]
    }
   ],
   "source": [
    "#Random Forest Model Report\n",
    "print(classification_report(Y_test, forest_prediction))\n",
    "print(confusion_matrix(Y_test, forest_prediction))\n",
    "print(\"\\nAccuracy = \" + str(accuracy_score(Y_test, forest_prediction)))"
   ]
  },
  {
   "cell_type": "code",
   "execution_count": null,
   "metadata": {},
   "outputs": [],
   "source": []
  },
  {
   "cell_type": "code",
   "execution_count": null,
   "metadata": {},
   "outputs": [],
   "source": []
  }
 ],
 "metadata": {
  "kernelspec": {
   "display_name": "Python 3",
   "language": "python",
   "name": "python3"
  },
  "language_info": {
   "codemirror_mode": {
    "name": "ipython",
    "version": 3
   },
   "file_extension": ".py",
   "mimetype": "text/x-python",
   "name": "python",
   "nbconvert_exporter": "python",
   "pygments_lexer": "ipython3",
   "version": "3.7.3"
  }
 },
 "nbformat": 4,
 "nbformat_minor": 4
}

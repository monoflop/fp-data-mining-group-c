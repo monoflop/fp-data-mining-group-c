{
 "cells": [
  {
   "cell_type": "code",
   "execution_count": 1,
   "metadata": {},
   "outputs": [],
   "source": [
    "#Abhängigkeiten\n",
    "import pandas as pd\n",
    "import seaborn as sns\n",
    "import matplotlib.pyplot as plt\n",
    "from sklearn.ensemble import RandomForestClassifier\n",
    "from sklearn.svm import SVC\n",
    "from sklearn import svm\n",
    "from sklearn.neural_network import MLPClassifier\n",
    "from sklearn.metrics import confusion_matrix, classification_report, accuracy_score\n",
    "from sklearn.preprocessing import StandardScaler, LabelEncoder\n",
    "from sklearn.model_selection import train_test_split\n",
    "%matplotlib inline\n"
   ]
  },
  {
   "cell_type": "code",
   "execution_count": 2,
   "metadata": {},
   "outputs": [],
   "source": [
    "#Daten laden\n",
    "#strip_1 enthält keine near Einträge mit 1.0?\n",
    "strip = pd.read_csv('data/train/strip_3_train.csv', sep=',')"
   ]
  },
  {
   "cell_type": "code",
   "execution_count": 3,
   "metadata": {},
   "outputs": [
    {
     "data": {
      "text/html": [
       "<div>\n",
       "<style scoped>\n",
       "    .dataframe tbody tr th:only-of-type {\n",
       "        vertical-align: middle;\n",
       "    }\n",
       "\n",
       "    .dataframe tbody tr th {\n",
       "        vertical-align: top;\n",
       "    }\n",
       "\n",
       "    .dataframe thead th {\n",
       "        text-align: right;\n",
       "    }\n",
       "</style>\n",
       "<table border=\"1\" class=\"dataframe\">\n",
       "  <thead>\n",
       "    <tr style=\"text-align: right;\">\n",
       "      <th></th>\n",
       "      <th>frame_number</th>\n",
       "      <th>strip_id</th>\n",
       "      <th>node_id</th>\n",
       "      <th>timestamp</th>\n",
       "      <th>run_number</th>\n",
       "      <th>ax</th>\n",
       "      <th>ay</th>\n",
       "      <th>az</th>\n",
       "      <th>gx</th>\n",
       "      <th>gy</th>\n",
       "      <th>gz</th>\n",
       "      <th>mx</th>\n",
       "      <th>my</th>\n",
       "      <th>mz</th>\n",
       "      <th>r</th>\n",
       "      <th>near</th>\n",
       "      <th>vicon_x</th>\n",
       "      <th>vicon_y</th>\n",
       "    </tr>\n",
       "  </thead>\n",
       "  <tbody>\n",
       "    <tr>\n",
       "      <th>0</th>\n",
       "      <td>0</td>\n",
       "      <td>3</td>\n",
       "      <td>1</td>\n",
       "      <td>2020-08-05 14:01:18.984</td>\n",
       "      <td>0</td>\n",
       "      <td>-0.002945</td>\n",
       "      <td>0.000731</td>\n",
       "      <td>-0.000471</td>\n",
       "      <td>-0.003762</td>\n",
       "      <td>0.121539</td>\n",
       "      <td>0.253784</td>\n",
       "      <td>0.382613</td>\n",
       "      <td>0.021392</td>\n",
       "      <td>-0.221057</td>\n",
       "      <td>NaN</td>\n",
       "      <td>0.0</td>\n",
       "      <td>-9.986354</td>\n",
       "      <td>4.972623</td>\n",
       "    </tr>\n",
       "    <tr>\n",
       "      <th>1</th>\n",
       "      <td>0</td>\n",
       "      <td>3</td>\n",
       "      <td>2</td>\n",
       "      <td>2020-08-05 14:01:18.931</td>\n",
       "      <td>0</td>\n",
       "      <td>0.003222</td>\n",
       "      <td>0.000548</td>\n",
       "      <td>-0.004903</td>\n",
       "      <td>0.276534</td>\n",
       "      <td>-0.053331</td>\n",
       "      <td>0.004065</td>\n",
       "      <td>0.805318</td>\n",
       "      <td>-0.289757</td>\n",
       "      <td>0.761046</td>\n",
       "      <td>-86.0</td>\n",
       "      <td>0.0</td>\n",
       "      <td>-9.986354</td>\n",
       "      <td>4.972623</td>\n",
       "    </tr>\n",
       "    <tr>\n",
       "      <th>2</th>\n",
       "      <td>0</td>\n",
       "      <td>3</td>\n",
       "      <td>3</td>\n",
       "      <td>2020-08-05 14:01:19.038</td>\n",
       "      <td>0</td>\n",
       "      <td>0.001292</td>\n",
       "      <td>0.002014</td>\n",
       "      <td>-0.000209</td>\n",
       "      <td>-0.075876</td>\n",
       "      <td>0.188471</td>\n",
       "      <td>-0.045029</td>\n",
       "      <td>0.729485</td>\n",
       "      <td>2.356819</td>\n",
       "      <td>0.337127</td>\n",
       "      <td>-85.0</td>\n",
       "      <td>0.0</td>\n",
       "      <td>-9.986354</td>\n",
       "      <td>4.972623</td>\n",
       "    </tr>\n",
       "    <tr>\n",
       "      <th>3</th>\n",
       "      <td>0</td>\n",
       "      <td>3</td>\n",
       "      <td>4</td>\n",
       "      <td>2020-08-05 14:01:18.869</td>\n",
       "      <td>0</td>\n",
       "      <td>0.002646</td>\n",
       "      <td>0.001947</td>\n",
       "      <td>0.003010</td>\n",
       "      <td>-0.027558</td>\n",
       "      <td>-0.018787</td>\n",
       "      <td>-0.108288</td>\n",
       "      <td>-0.836178</td>\n",
       "      <td>0.027348</td>\n",
       "      <td>0.555749</td>\n",
       "      <td>-86.0</td>\n",
       "      <td>0.0</td>\n",
       "      <td>-9.986354</td>\n",
       "      <td>4.972623</td>\n",
       "    </tr>\n",
       "    <tr>\n",
       "      <th>4</th>\n",
       "      <td>0</td>\n",
       "      <td>3</td>\n",
       "      <td>5</td>\n",
       "      <td>2020-08-05 14:01:18.995</td>\n",
       "      <td>0</td>\n",
       "      <td>0.000098</td>\n",
       "      <td>0.000989</td>\n",
       "      <td>0.001032</td>\n",
       "      <td>-0.141565</td>\n",
       "      <td>0.071970</td>\n",
       "      <td>0.113878</td>\n",
       "      <td>-0.097138</td>\n",
       "      <td>-1.025881</td>\n",
       "      <td>0.192381</td>\n",
       "      <td>-83.0</td>\n",
       "      <td>0.0</td>\n",
       "      <td>-9.986354</td>\n",
       "      <td>4.972623</td>\n",
       "    </tr>\n",
       "  </tbody>\n",
       "</table>\n",
       "</div>"
      ],
      "text/plain": [
       "   frame_number  strip_id  node_id                timestamp  run_number  \\\n",
       "0             0         3        1  2020-08-05 14:01:18.984           0   \n",
       "1             0         3        2  2020-08-05 14:01:18.931           0   \n",
       "2             0         3        3  2020-08-05 14:01:19.038           0   \n",
       "3             0         3        4  2020-08-05 14:01:18.869           0   \n",
       "4             0         3        5  2020-08-05 14:01:18.995           0   \n",
       "\n",
       "         ax        ay        az        gx        gy        gz        mx  \\\n",
       "0 -0.002945  0.000731 -0.000471 -0.003762  0.121539  0.253784  0.382613   \n",
       "1  0.003222  0.000548 -0.004903  0.276534 -0.053331  0.004065  0.805318   \n",
       "2  0.001292  0.002014 -0.000209 -0.075876  0.188471 -0.045029  0.729485   \n",
       "3  0.002646  0.001947  0.003010 -0.027558 -0.018787 -0.108288 -0.836178   \n",
       "4  0.000098  0.000989  0.001032 -0.141565  0.071970  0.113878 -0.097138   \n",
       "\n",
       "         my        mz     r  near   vicon_x   vicon_y  \n",
       "0  0.021392 -0.221057   NaN   0.0 -9.986354  4.972623  \n",
       "1 -0.289757  0.761046 -86.0   0.0 -9.986354  4.972623  \n",
       "2  2.356819  0.337127 -85.0   0.0 -9.986354  4.972623  \n",
       "3  0.027348  0.555749 -86.0   0.0 -9.986354  4.972623  \n",
       "4 -1.025881  0.192381 -83.0   0.0 -9.986354  4.972623  "
      ]
     },
     "execution_count": 3,
     "metadata": {},
     "output_type": "execute_result"
    }
   ],
   "source": [
    "#Ersten paar Einträge des Datensatzes ausgeben\n",
    "strip.head()"
   ]
  },
  {
   "cell_type": "code",
   "execution_count": 4,
   "metadata": {},
   "outputs": [
    {
     "name": "stdout",
     "output_type": "stream",
     "text": [
      "<class 'pandas.core.frame.DataFrame'>\n",
      "RangeIndex: 350940 entries, 0 to 350939\n",
      "Data columns (total 18 columns):\n",
      " #   Column        Non-Null Count   Dtype  \n",
      "---  ------        --------------   -----  \n",
      " 0   frame_number  350940 non-null  int64  \n",
      " 1   strip_id      350940 non-null  int64  \n",
      " 2   node_id       350940 non-null  int64  \n",
      " 3   timestamp     350940 non-null  object \n",
      " 4   run_number    350940 non-null  int64  \n",
      " 5   ax            350940 non-null  float64\n",
      " 6   ay            350940 non-null  float64\n",
      " 7   az            350940 non-null  float64\n",
      " 8   gx            350940 non-null  float64\n",
      " 9   gy            350940 non-null  float64\n",
      " 10  gz            350940 non-null  float64\n",
      " 11  mx            350940 non-null  float64\n",
      " 12  my            350940 non-null  float64\n",
      " 13  mz            350940 non-null  float64\n",
      " 14  r             187587 non-null  float64\n",
      " 15  near          350940 non-null  float64\n",
      " 16  vicon_x       350940 non-null  float64\n",
      " 17  vicon_y       350940 non-null  float64\n",
      "dtypes: float64(13), int64(4), object(1)\n",
      "memory usage: 48.2+ MB\n"
     ]
    }
   ],
   "source": [
    "strip.info()"
   ]
  },
  {
   "cell_type": "code",
   "execution_count": 5,
   "metadata": {},
   "outputs": [
    {
     "data": {
      "text/plain": [
       "0.0    336300\n",
       "1.0     14640\n",
       "Name: near, dtype: int64"
      ]
     },
     "execution_count": 5,
     "metadata": {},
     "output_type": "execute_result"
    }
   ],
   "source": [
    "strip['near'].value_counts()"
   ]
  },
  {
   "cell_type": "code",
   "execution_count": 6,
   "metadata": {},
   "outputs": [
    {
     "name": "stderr",
     "output_type": "stream",
     "text": [
      "/home/monoflop/.local/lib/python3.7/site-packages/seaborn/_decorators.py:43: FutureWarning: Pass the following variable as a keyword arg: x. From version 0.12, the only valid positional argument will be `data`, and passing other arguments without an explicit keyword will result in an error or misinterpretation.\n",
      "  FutureWarning\n"
     ]
    },
    {
     "data": {
      "text/plain": [
       "<AxesSubplot:xlabel='near', ylabel='count'>"
      ]
     },
     "execution_count": 6,
     "metadata": {},
     "output_type": "execute_result"
    },
    {
     "data": {
      "image/png": "[encoded data removed]",
      "text/plain": [
       "<Figure size 432x288 with 1 Axes>"
      ]
     },
     "metadata": {
      "needs_background": "light"
     },
     "output_type": "display_data"
    }
   ],
   "source": [
    "sns.countplot(strip['near'])"
   ]
  },
  {
   "cell_type": "code",
   "execution_count": 7,
   "metadata": {},
   "outputs": [],
   "source": [
    "#Label aus Datensatz entfernen, damit wir einen Label-Satz und einen Feature-Satz erhalten.\n",
    "X = strip.drop('near',axis = 1)\n",
    "Y = strip['near']\n",
    "\n",
    "#Alle nicht Sensordaten entfernen\n",
    "X = X.drop('frame_number',axis = 1)\n",
    "X = X.drop('strip_id',axis = 1)\n",
    "X = X.drop('node_id',axis = 1)\n",
    "X = X.drop('timestamp',axis = 1)\n",
    "X = X.drop('run_number',axis = 1)\n",
    "X = X.drop('vicon_x',axis = 1)\n",
    "X = X.drop('vicon_y',axis = 1)\n",
    "\n",
    "#NaN Werte normalisieren\n",
    "X = X.fillna(X.mean())"
   ]
  },
  {
   "cell_type": "code",
   "execution_count": 8,
   "metadata": {},
   "outputs": [],
   "source": [
    "#Training- und Test-Splits erstellen\n",
    "#75% Trainingsdaten und 25% Testdaten\n",
    "X_train, X_test, Y_train, Y_test = train_test_split(X, Y, test_size = 0.25, random_state = 0)"
   ]
  },
  {
   "cell_type": "code",
   "execution_count": 9,
   "metadata": {},
   "outputs": [],
   "source": [
    "#Daten einheitlich skalieren von z. B. 0.0 - 1.0\n",
    "#TODO\n",
    "sc = StandardScaler()\n",
    "sc.fit(X_train)\n",
    "X_train = sc.transform(X_train)\n",
    "X_test = sc.transform(X_test)"
   ]
  },
  {
   "cell_type": "code",
   "execution_count": 10,
   "metadata": {},
   "outputs": [],
   "source": [
    "#Random Forest\n",
    "forest = RandomForestClassifier(n_estimators=200, random_state = 0)\n",
    "forest.fit(X_train, Y_train)\n",
    "forest_prediction = forest.predict(X_test)"
   ]
  },
  {
   "cell_type": "code",
   "execution_count": 18,
   "metadata": {},
   "outputs": [
    {
     "name": "stdout",
     "output_type": "stream",
     "text": [
      "              precision    recall  f1-score   support\n",
      "\n",
      "         0.0       0.97      1.00      0.98     84084\n",
      "         1.0       0.75      0.19      0.30      3651\n",
      "\n",
      "    accuracy                           0.96     87735\n",
      "   macro avg       0.86      0.59      0.64     87735\n",
      "weighted avg       0.96      0.96      0.95     87735\n",
      "\n",
      "[[83851   233]\n",
      " [ 2961   690]]\n",
      "\n",
      "Accuracy = 0.9635949165099447\n"
     ]
    }
   ],
   "source": [
    "#Random Forest Model Report\n",
    "print(classification_report(Y_test, forest_prediction))\n",
    "print(confusion_matrix(Y_test, forest_prediction))\n",
    "print(\"\\nAccuracy = \" + str(accuracy_score(Y_test, forest_prediction)))"
   ]
  },
  {
   "cell_type": "code",
   "execution_count": 12,
   "metadata": {},
   "outputs": [],
   "source": [
    "#Support Vector Model\n",
    "#clf = svm.SVC()\n",
    "#clf.fit(X_train, Y_train)\n",
    "#clf_prediction = clf.predict(X_test)"
   ]
  },
  {
   "cell_type": "code",
   "execution_count": 13,
   "metadata": {},
   "outputs": [],
   "source": [
    "#Support Vector Model Report\n",
    "#print(classification_report(Y_test, clf_prediction))\n",
    "#print(confusion_matrix(Y_test, clf_prediction))"
   ]
  }
 ],
 "metadata": {
  "kernelspec": {
   "display_name": "Python 3",
   "language": "python",
   "name": "python3"
  },
  "language_info": {
   "codemirror_mode": {
    "name": "ipython",
    "version": 3
   },
   "file_extension": ".py",
   "mimetype": "text/x-python",
   "name": "python",
   "nbconvert_exporter": "python",
   "pygments_lexer": "ipython3",
   "version": "3.7.3"
  }
 },
 "nbformat": 4,
 "nbformat_minor": 4
}

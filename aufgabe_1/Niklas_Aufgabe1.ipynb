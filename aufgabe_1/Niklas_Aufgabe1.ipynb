{
 "metadata": {
  "language_info": {
   "codemirror_mode": {
    "name": "ipython",
    "version": 3
   },
   "file_extension": ".py",
   "mimetype": "text/x-python",
   "name": "python",
   "nbconvert_exporter": "python",
   "pygments_lexer": "ipython3",
   "version": "3.9.1-final"
  },
  "orig_nbformat": 2,
  "kernelspec": {
   "name": "python3",
   "display_name": "Python 3.9.1 64-bit",
   "metadata": {
    "interpreter": {
     "hash": "aee8b7b246df8f9039afb4144a1f6fd8d2ca17a180786b69acc140d282b71a49"
    }
   }
  }
 },
 "nbformat": 4,
 "nbformat_minor": 2,
 "cells": [
  {
   "cell_type": "code",
   "execution_count": 1,
   "metadata": {},
   "outputs": [],
   "source": [
    "import pandas as pd\n",
    "import seaborn as sns\n",
    "import matplotlib.pyplot as plt\n",
    "import numpy as np\n",
    "from sklearn.ensemble import RandomForestClassifier\n",
    "from sklearn.svm import SVC\n",
    "from sklearn import svm\n",
    "from sklearn.neural_network import MLPClassifier\n",
    "from sklearn.metrics import confusion_matrix, classification_report, accuracy_score, roc_auc_score\n",
    "from sklearn.preprocessing import StandardScaler, LabelEncoder\n",
    "from sklearn.model_selection import train_test_split\n",
    "from sklearn.impute import SimpleImputer\n",
    "import math"
   ]
  },
  {
   "cell_type": "code",
   "execution_count": 2,
   "metadata": {},
   "outputs": [],
   "source": [
    "data_dir = './data/train/'\n",
    "output_dir = './data/fixed_train1/'"
   ]
  },
  {
   "cell_type": "code",
   "execution_count": 3,
   "metadata": {},
   "outputs": [],
   "source": [
    "def load_strip_pkl(path: str)-> pd.DataFrame: \n",
    "    return pd.read_pickle(path)\n",
    "\n",
    "def save_strip_pkl(data: pd.DataFrame, outdir: str, outname: str):\n",
    "    if not os.path.exists(outdir):\n",
    "        os.mkdir(outdir)\n",
    "\n",
    "    fullname = os.path.join(outdir, outname)    \n",
    "\n",
    "    data.to_pickle(fullname)\n",
    "\n",
    "def load_strip_csv(path: str)-> pd.DataFrame: \n",
    "    return pd.read_csv(path, sep=',')\n",
    "\n",
    "def save_strip_csv(data: pd.DataFrame, outdir: str, outname: str):\n",
    "    if not os.path.exists(outdir):\n",
    "        os.mkdir(outdir)\n",
    "\n",
    "    fullname = os.path.join(outdir, outname)    \n",
    "\n",
    "    data.to_csv(fullname, sep=',')"
   ]
  },
  {
   "cell_type": "code",
   "execution_count": 4,
   "metadata": {},
   "outputs": [],
   "source": [
    "# Read tranformed data\n",
    "df_main = load_strip_pkl(output_dir+'strip_5_train.pkl')\n",
    "for i in range(1, 23):\n",
    "    df_main.append(load_strip_pkl(output_dir + 'strip_%i_train.pkl' % i))"
   ]
  },
  {
   "cell_type": "code",
   "execution_count": 5,
   "metadata": {},
   "outputs": [],
   "source": [
    "# format table to use it for classifier\n",
    "def split_data(df: pd.DataFrame) -> pd.DataFrame:\n",
    "    columns = [\"ax\", \"ay\", \"az\", \"gx\", \"gy\", \"gz\", \"mx\", \"my\", \"mz\", \"r\"]\n",
    "    newColumns = range(1,16)\n",
    "    df2 = pd.DataFrame()\n",
    "    for c in columns:\n",
    "        cols = list(map(lambda x: c+str(x), newColumns))\n",
    "        new_df = pd.DataFrame(df[c].to_list(), columns=cols)\n",
    "        df2 = pd.concat([df2, new_df], axis=1)\n",
    "    # add near column \n",
    "    df2['near'] = pd.DataFrame(df_main['near'].values.tolist()).agg('max', axis=1)\n",
    "    return df2\n"
   ]
  },
  {
   "cell_type": "code",
   "execution_count": 6,
   "metadata": {},
   "outputs": [],
   "source": [
    "df_main_splittet = split_data(df_main)\n",
    "df_main_splittet.fillna(df_main_splittet.max(), inplace=True)"
   ]
  },
  {
   "cell_type": "code",
   "execution_count": 7,
   "metadata": {},
   "outputs": [
    {
     "output_type": "execute_result",
     "data": {
      "text/plain": [
       "1.0"
      ]
     },
     "metadata": {},
     "execution_count": 7
    }
   ],
   "source": [
    " df_main_splittet['near'].max()"
   ]
  },
  {
   "cell_type": "code",
   "execution_count": 8,
   "metadata": {},
   "outputs": [],
   "source": [
    "def get_train_test_data(strip: pd.DataFrame):\n",
    "    X = strip.drop('near',axis = 1)\n",
    "    Y = strip['near']\n",
    "    X.fillna(X.mean())\n",
    "    Y.fillna(Y.mean())\n",
    "    return train_test_split(X, Y, test_size=0.30, random_state=42)\n",
    "\n",
    "def scale_data(data: list):\n",
    "    sc = StandardScaler()\n",
    "    sc.fit(data[0])\n",
    "    sc.fit(data[1])\n",
    "    data[0] = sc.transform(data[0])\n",
    "    data[1] = sc.transform(data[1])\n",
    "\n",
    "def apply_forest(forest: RandomForestClassifier, train_data: list):\n",
    "    forest.fit(train_data[0], train_data[2])"
   ]
  },
  {
   "cell_type": "code",
   "execution_count": 9,
   "metadata": {},
   "outputs": [],
   "source": [
    "train_data_main = get_train_test_data(df_main_splittet) #X_train, X_test, Y_train, Y_test\n",
    "scale_data(train_data_main)"
   ]
  },
  {
   "cell_type": "code",
   "execution_count": 10,
   "metadata": {},
   "outputs": [],
   "source": [
    "#Random Forest\n",
    "forest = RandomForestClassifier(n_estimators=200, random_state = 0)\n",
    "apply_forest(forest, train_data_main)"
   ]
  },
  {
   "cell_type": "code",
   "execution_count": 11,
   "metadata": {},
   "outputs": [],
   "source": [
    "forest_prediction = forest.predict(train_data_main[1])"
   ]
  },
  {
   "cell_type": "code",
   "execution_count": 12,
   "metadata": {},
   "outputs": [
    {
     "output_type": "execute_result",
     "data": {
      "text/plain": [
       "0.9873201310728024"
      ]
     },
     "metadata": {},
     "execution_count": 12
    }
   ],
   "source": [
    "#accuracy_score(train_data_main[3], forest_prediction)\n",
    "roc_auc_score(train_data_main[3], forest_prediction)"
   ]
  },
  {
   "cell_type": "code",
   "execution_count": null,
   "metadata": {},
   "outputs": [],
   "source": []
  }
 ]
}
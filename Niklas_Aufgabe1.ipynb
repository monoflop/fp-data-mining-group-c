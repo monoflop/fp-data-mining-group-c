{
 "metadata": {
  "language_info": {
   "codemirror_mode": {
    "name": "ipython",
    "version": 3
   },
   "file_extension": ".py",
   "mimetype": "text/x-python",
   "name": "python",
   "nbconvert_exporter": "python",
   "pygments_lexer": "ipython3",
   "version": "3.9.1-final"
  },
  "orig_nbformat": 2,
  "kernelspec": {
   "name": "python3",
   "display_name": "Python 3.9.1 64-bit",
   "metadata": {
    "interpreter": {
     "hash": "aee8b7b246df8f9039afb4144a1f6fd8d2ca17a180786b69acc140d282b71a49"
    }
   }
  }
 },
 "nbformat": 4,
 "nbformat_minor": 2,
 "cells": [
  {
   "cell_type": "code",
   "execution_count": 114,
   "metadata": {},
   "outputs": [],
   "source": [
    "import pandas as pd\n",
    "import seaborn as sns\n",
    "import matplotlib.pyplot as plt\n",
    "import numpy as np\n",
    "from sklearn.ensemble import RandomForestClassifier\n",
    "from sklearn.svm import SVC\n",
    "from sklearn import svm\n",
    "from sklearn.neural_network import MLPClassifier\n",
    "from sklearn.metrics import confusion_matrix, classification_report, accuracy_score, roc_auc_score\n",
    "from sklearn.preprocessing import StandardScaler, LabelEncoder\n",
    "from sklearn.model_selection import train_test_split\n",
    "from sklearn.impute import SimpleImputer\n",
    "import os"
   ]
  },
  {
   "cell_type": "code",
   "execution_count": 2,
   "metadata": {},
   "outputs": [],
   "source": [
    "outname = 'trans1.csv'\n",
    "outdir = './data/transformed/'"
   ]
  },
  {
   "cell_type": "code",
   "execution_count": 3,
   "metadata": {},
   "outputs": [],
   "source": [
    "def save_strip(data: pd.DataFrame, outdir: str, file: str):\n",
    "    if not os.path.exists(outdir):\n",
    "        os.mkdir(outdir)\n",
    "\n",
    "    fullname = os.path.join(outdir, outname)    \n",
    "\n",
    "    data.to_csv(fullname)\n",
    "\n",
    "def load_strip(path: str)-> pd.DataFrame: \n",
    "    return pd.read_csv(path)\n",
    "\n",
    "def init_strip():\n",
    "    #if not os.path.exists(outdir+outname):\n",
    "    print(\"Recreate transformed strip\")\n",
    "    strip = pd.read_csv('data/train/strip_3_train.csv', sep=',')\n",
    "\n",
    "    \"\"\"print(strip.head(n=1))\n",
    "\n",
    "    print(strip['frame_number'].max())\n",
    "    print(strip['run_number'].max())\"\"\"\n",
    "    strip2 = strip.drop('strip_id',axis = 1)\\\n",
    "                    .drop('timestamp',axis = 1)\\\n",
    "                    .drop('vicon_x',axis = 1)\\\n",
    "                    .drop('vicon_y',axis = 1)\n",
    "    strip = strip2.groupby(['run_number','frame_number']).agg(pd.Series.tolist)\n",
    "    #save_strip(strip, outdir, outname)\n",
    "    return strip\n",
    "    \"\"\"else:\n",
    "        print(\"Read transformed strip\")\n",
    "        strip = load_strip(outdir+outname)\n",
    "        #print(strip.head(n=100))\n",
    "        return strip\"\"\""
   ]
  },
  {
   "cell_type": "code",
   "execution_count": 16,
   "metadata": {},
   "outputs": [
    {
     "output_type": "stream",
     "name": "stdout",
     "text": [
      "Recreate transformed strip\n"
     ]
    }
   ],
   "source": [
    "# Read data and goup it\n",
    "strip = init_strip()\n",
    "strip.reset_index(inplace=True)"
   ]
  },
  {
   "cell_type": "code",
   "execution_count": 17,
   "metadata": {},
   "outputs": [],
   "source": [
    "def add_missing_data(df: pd.DataFrame):\n",
    "    tmp = df[['run_number', 'frame_number', 'node_id']]\n",
    "    for index, row in tmp.iterrows():\n",
    "        nodes = row['node_id']\n",
    "        length = 0\n",
    "        if isinstance(nodes, str):\n",
    "            length = len(nodes.split(',')) # this is a pandas csv array!! (String)\n",
    "        elif isinstance(nodes, list): \n",
    "            length = len(nodes)\n",
    "        if length < 15:\n",
    "            run = row['run_number']\n",
    "            frame = row['frame_number']\n",
    "            print('hier %i %i' %(run,frame))\n",
    "            # TODO: add missing rows to df\n"
   ]
  },
  {
   "cell_type": "code",
   "execution_count": 59,
   "metadata": {
    "tags": []
   },
   "outputs": [],
   "source": [
    "# add missing rows to ds\n",
    "add_missing_data(strip)"
   ]
  },
  {
   "cell_type": "code",
   "execution_count": 88,
   "metadata": {},
   "outputs": [],
   "source": [
    "# format table to use it for classifier\n",
    "def split_data(df: pd.DataFrame):\n",
    "    columns = [\"ax\", \"ay\", \"az\", \"gx\", \"gy\", \"gz\", \"mx\", \"my\", \"mz\", \"r\"]\n",
    "    newColumns = [1,2,3,4,5,6,7,8,9,10,11,12,13,14,15]\n",
    "    df2 = pd.DataFrame()\n",
    "    for c in columns:\n",
    "        cols = list(map(lambda x: c+str(x), newColumns))\n",
    "        new_df = pd.DataFrame(df[c].to_list(), columns=cols)\n",
    "        df2 = pd.concat([df2, new_df], axis=1)\n",
    "    # add near column \n",
    "    df2['near'] = pd.DataFrame(df['near'].values.tolist()).mean(1)\n",
    "    return df2\n"
   ]
  },
  {
   "cell_type": "code",
   "execution_count": 99,
   "metadata": {},
   "outputs": [
    {
     "output_type": "execute_result",
     "data": {
      "text/plain": [
       "        ax1       ax2       ax3       ax4       ax5       ax6       ax7  \\\n",
       "0 -0.002945  0.003222  0.001292  0.002646  0.000098 -0.000827 -0.003101   \n",
       "1  0.000717  0.001269  0.001292 -0.002970  0.000098 -0.003756 -0.002612   \n",
       "2 -0.003189 -0.000684 -0.003835 -0.001016  0.000098  0.000394 -0.001148   \n",
       "3 -0.000747 -0.001905  0.004466 -0.001261 -0.001367  0.001371  0.002026   \n",
       "4 -0.002212  0.000781 -0.002126 -0.000284 -0.001367  0.001371 -0.001392   \n",
       "\n",
       "        ax8       ax9      ax10  ...    r7    r8    r9   r10   r11   r12  \\\n",
       "0 -0.000773  0.000917 -0.000914  ... -86.0 -93.0 -89.0 -88.0 -91.0   NaN   \n",
       "1  0.001180  0.001894  0.000795  ... -89.0 -94.0 -88.0   NaN   NaN   NaN   \n",
       "2 -0.001018  0.002626 -0.002623  ... -87.0 -91.0 -83.0 -92.0 -84.0 -87.0   \n",
       "3  0.000936  0.002138 -0.002623  ... -84.0 -90.0 -82.0 -92.0 -84.0 -85.0   \n",
       "4 -0.004191 -0.000792  0.002504  ... -84.0 -86.0 -79.0 -94.0 -88.0 -85.0   \n",
       "\n",
       "    r13   r14   r15  near  \n",
       "0 -90.0 -85.0 -85.0   0.0  \n",
       "1   NaN -87.0 -85.0   0.0  \n",
       "2   NaN -90.0 -85.0   0.0  \n",
       "3   NaN   NaN -86.0   0.0  \n",
       "4 -91.0   NaN -87.0   0.0  \n",
       "\n",
       "[5 rows x 151 columns]"
      ],
      "text/html": "<div>\n<style scoped>\n    .dataframe tbody tr th:only-of-type {\n        vertical-align: middle;\n    }\n\n    .dataframe tbody tr th {\n        vertical-align: top;\n    }\n\n    .dataframe thead th {\n        text-align: right;\n    }\n</style>\n<table border=\"1\" class=\"dataframe\">\n  <thead>\n    <tr style=\"text-align: right;\">\n      <th></th>\n      <th>ax1</th>\n      <th>ax2</th>\n      <th>ax3</th>\n      <th>ax4</th>\n      <th>ax5</th>\n      <th>ax6</th>\n      <th>ax7</th>\n      <th>ax8</th>\n      <th>ax9</th>\n      <th>ax10</th>\n      <th>...</th>\n      <th>r7</th>\n      <th>r8</th>\n      <th>r9</th>\n      <th>r10</th>\n      <th>r11</th>\n      <th>r12</th>\n      <th>r13</th>\n      <th>r14</th>\n      <th>r15</th>\n      <th>near</th>\n    </tr>\n  </thead>\n  <tbody>\n    <tr>\n      <th>0</th>\n      <td>-0.002945</td>\n      <td>0.003222</td>\n      <td>0.001292</td>\n      <td>0.002646</td>\n      <td>0.000098</td>\n      <td>-0.000827</td>\n      <td>-0.003101</td>\n      <td>-0.000773</td>\n      <td>0.000917</td>\n      <td>-0.000914</td>\n      <td>...</td>\n      <td>-86.0</td>\n      <td>-93.0</td>\n      <td>-89.0</td>\n      <td>-88.0</td>\n      <td>-91.0</td>\n      <td>NaN</td>\n      <td>-90.0</td>\n      <td>-85.0</td>\n      <td>-85.0</td>\n      <td>0.0</td>\n    </tr>\n    <tr>\n      <th>1</th>\n      <td>0.000717</td>\n      <td>0.001269</td>\n      <td>0.001292</td>\n      <td>-0.002970</td>\n      <td>0.000098</td>\n      <td>-0.003756</td>\n      <td>-0.002612</td>\n      <td>0.001180</td>\n      <td>0.001894</td>\n      <td>0.000795</td>\n      <td>...</td>\n      <td>-89.0</td>\n      <td>-94.0</td>\n      <td>-88.0</td>\n      <td>NaN</td>\n      <td>NaN</td>\n      <td>NaN</td>\n      <td>NaN</td>\n      <td>-87.0</td>\n      <td>-85.0</td>\n      <td>0.0</td>\n    </tr>\n    <tr>\n      <th>2</th>\n      <td>-0.003189</td>\n      <td>-0.000684</td>\n      <td>-0.003835</td>\n      <td>-0.001016</td>\n      <td>0.000098</td>\n      <td>0.000394</td>\n      <td>-0.001148</td>\n      <td>-0.001018</td>\n      <td>0.002626</td>\n      <td>-0.002623</td>\n      <td>...</td>\n      <td>-87.0</td>\n      <td>-91.0</td>\n      <td>-83.0</td>\n      <td>-92.0</td>\n      <td>-84.0</td>\n      <td>-87.0</td>\n      <td>NaN</td>\n      <td>-90.0</td>\n      <td>-85.0</td>\n      <td>0.0</td>\n    </tr>\n    <tr>\n      <th>3</th>\n      <td>-0.000747</td>\n      <td>-0.001905</td>\n      <td>0.004466</td>\n      <td>-0.001261</td>\n      <td>-0.001367</td>\n      <td>0.001371</td>\n      <td>0.002026</td>\n      <td>0.000936</td>\n      <td>0.002138</td>\n      <td>-0.002623</td>\n      <td>...</td>\n      <td>-84.0</td>\n      <td>-90.0</td>\n      <td>-82.0</td>\n      <td>-92.0</td>\n      <td>-84.0</td>\n      <td>-85.0</td>\n      <td>NaN</td>\n      <td>NaN</td>\n      <td>-86.0</td>\n      <td>0.0</td>\n    </tr>\n    <tr>\n      <th>4</th>\n      <td>-0.002212</td>\n      <td>0.000781</td>\n      <td>-0.002126</td>\n      <td>-0.000284</td>\n      <td>-0.001367</td>\n      <td>0.001371</td>\n      <td>-0.001392</td>\n      <td>-0.004191</td>\n      <td>-0.000792</td>\n      <td>0.002504</td>\n      <td>...</td>\n      <td>-84.0</td>\n      <td>-86.0</td>\n      <td>-79.0</td>\n      <td>-94.0</td>\n      <td>-88.0</td>\n      <td>-85.0</td>\n      <td>-91.0</td>\n      <td>NaN</td>\n      <td>-87.0</td>\n      <td>0.0</td>\n    </tr>\n  </tbody>\n</table>\n<p>5 rows × 151 columns</p>\n</div>"
     },
     "metadata": {},
     "execution_count": 99
    }
   ],
   "source": [
    "strip2 = split_data(strip)\n",
    "strip2.head()"
   ]
  },
  {
   "cell_type": "code",
   "execution_count": 103,
   "metadata": {},
   "outputs": [],
   "source": [
    "X = strip2.drop('near',axis = 1)\n",
    "Y = strip2['near']\n",
    "X = X.fillna(X.mean())\n",
    "X.head()\n",
    "X_train, X_test, Y_train, Y_test = train_test_split(X, Y, test_size = 0.15, random_state = 25)"
   ]
  },
  {
   "cell_type": "code",
   "execution_count": 106,
   "metadata": {},
   "outputs": [],
   "source": [
    "sc = StandardScaler()\n",
    "sc.fit(X_train)\n",
    "sc.fit(X_test)\n",
    "X_train = sc.transform(X_train)\n",
    "X_test = sc.transform(X_test)"
   ]
  },
  {
   "cell_type": "code",
   "execution_count": 119,
   "metadata": {},
   "outputs": [],
   "source": [
    "#Random Forest\n",
    "forest = RandomForestClassifier(n_estimators=200, random_state = 0)\n",
    "forest.fit(X_train, Y_train)\n",
    "forest_prediction = forest.predict(X_test)"
   ]
  },
  {
   "cell_type": "code",
   "execution_count": 118,
   "metadata": {},
   "outputs": [
    {
     "output_type": "execute_result",
     "data": {
      "text/plain": [
       "0.9405461859817421"
      ]
     },
     "metadata": {},
     "execution_count": 118
    }
   ],
   "source": [
    "#accuracy_score(Y_test, forest_prediction)\n",
    "roc_auc_score(Y_test, forest_prediction)"
   ]
  },
  {
   "cell_type": "code",
   "execution_count": null,
   "metadata": {},
   "outputs": [],
   "source": []
  }
 ]
}
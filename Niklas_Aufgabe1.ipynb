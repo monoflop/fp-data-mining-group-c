{
 "metadata": {
  "language_info": {
   "codemirror_mode": {
    "name": "ipython",
    "version": 3
   },
   "file_extension": ".py",
   "mimetype": "text/x-python",
   "name": "python",
   "nbconvert_exporter": "python",
   "pygments_lexer": "ipython3",
   "version": "3.9.1-final"
  },
  "orig_nbformat": 2,
  "kernelspec": {
   "name": "python3",
   "display_name": "Python 3.9.1 64-bit",
   "metadata": {
    "interpreter": {
     "hash": "aee8b7b246df8f9039afb4144a1f6fd8d2ca17a180786b69acc140d282b71a49"
    }
   }
  }
 },
 "nbformat": 4,
 "nbformat_minor": 2,
 "cells": [
  {
   "cell_type": "code",
   "execution_count": 18,
   "metadata": {},
   "outputs": [],
   "source": [
    "import pandas as pd\n",
    "import seaborn as sns\n",
    "import matplotlib.pyplot as plt\n",
    "import numpy as np\n",
    "from sklearn.ensemble import RandomForestClassifier\n",
    "from sklearn.svm import SVC\n",
    "from sklearn import svm\n",
    "from sklearn.neural_network import MLPClassifier\n",
    "from sklearn.metrics import confusion_matrix, classification_report, accuracy_score, roc_auc_score\n",
    "from sklearn.preprocessing import StandardScaler, LabelEncoder\n",
    "from sklearn.model_selection import train_test_split\n",
    "from sklearn.impute import SimpleImputer\n",
    "import os"
   ]
  },
  {
   "cell_type": "code",
   "execution_count": 19,
   "metadata": {},
   "outputs": [],
   "source": [
    "outname = 'trans1.csv'\n",
    "outdir = './data/transformed/'"
   ]
  },
  {
   "cell_type": "code",
   "execution_count": 20,
   "metadata": {},
   "outputs": [],
   "source": [
    "def save_strip(data: pd.DataFrame, outdir: str, file: str):\n",
    "    if not os.path.exists(outdir):\n",
    "        os.mkdir(outdir)\n",
    "\n",
    "    fullname = os.path.join(outdir, outname)    \n",
    "\n",
    "    data.to_csv(fullname)\n",
    "\n",
    "def load_strip(path: str)-> pd.DataFrame: \n",
    "    return pd.read_csv(path, sep=',')\n",
    "\n",
    "def init_strip(strip: str)->pd.DataFrame:\n",
    "    #if not os.path.exists(outdir+outname):\n",
    "    print(\"Recreate transformed strip\")\n",
    "    strip = pd.read_csv(strip, sep=',')\n",
    "\n",
    "    \"\"\"print(strip.head(n=1))\n",
    "\n",
    "    print(strip['frame_number'].max())\n",
    "    print(strip['run_number'].max())\"\"\"\n",
    "    strip2 = strip.drop('strip_id',axis = 1)\\\n",
    "                    .drop('timestamp',axis = 1)\\\n",
    "                    .drop('vicon_x',axis = 1)\\\n",
    "                    .drop('vicon_y',axis = 1)\n",
    "    strip = strip2.groupby(['run_number','frame_number']).agg(pd.Series.tolist)\n",
    "    #save_strip(strip, outdir, outname)\n",
    "    strip.reset_index(inplace=True)\n",
    "    return strip\n",
    "    \"\"\"else:\n",
    "        print(\"Read transformed strip\")\n",
    "        strip = load_strip(outdir+outname)\n",
    "        #print(strip.head(n=100))\n",
    "        return strip\"\"\""
   ]
  },
  {
   "cell_type": "code",
   "execution_count": 21,
   "metadata": {},
   "outputs": [
    {
     "output_type": "stream",
     "name": "stdout",
     "text": [
      "Recreate transformed strip\n"
     ]
    }
   ],
   "source": [
    "# Read data and goup it\n",
    "strip_3 = init_strip('data/train/strip_3_train.csv')"
   ]
  },
  {
   "cell_type": "code",
   "execution_count": 22,
   "metadata": {},
   "outputs": [],
   "source": [
    "def add_missing_data(df: pd.DataFrame):\n",
    "    tmp = df[['run_number', 'frame_number', 'node_id']]\n",
    "    for index, row in tmp.iterrows():\n",
    "        nodes = row['node_id']\n",
    "        length = 0\n",
    "        if isinstance(nodes, str):\n",
    "            length = len(nodes.split(',')) # this is a pandas csv array!! (String)\n",
    "        elif isinstance(nodes, list): \n",
    "            length = len(nodes)\n",
    "        if length < 15:\n",
    "            run = row['run_number']\n",
    "            frame = row['frame_number']\n",
    "            print('hier %i %i' %(run,frame))\n",
    "            # TODO: add missing rows to df\n"
   ]
  },
  {
   "cell_type": "code",
   "execution_count": 23,
   "metadata": {
    "tags": []
   },
   "outputs": [],
   "source": [
    "# add missing rows to ds\n",
    "add_missing_data(strip_3)"
   ]
  },
  {
   "cell_type": "code",
   "execution_count": 24,
   "metadata": {},
   "outputs": [],
   "source": [
    "# format table to use it for classifier\n",
    "def split_data(df: pd.DataFrame) -> pd.DataFrame:\n",
    "    columns = [\"ax\", \"ay\", \"az\", \"gx\", \"gy\", \"gz\", \"mx\", \"my\", \"mz\", \"r\"]\n",
    "    newColumns = [1,2,3,4,5,6,7,8,9,10,11,12,13,14,15]\n",
    "    df2 = pd.DataFrame()\n",
    "    for c in columns:\n",
    "        cols = list(map(lambda x: c+str(x), newColumns))\n",
    "        new_df = pd.DataFrame(df[c].to_list(), columns=cols)\n",
    "        df2 = pd.concat([df2, new_df], axis=1)\n",
    "    # add near column \n",
    "    df2['near'] = pd.DataFrame(df['near'].values.tolist()).mean(1)\n",
    "    return df2\n"
   ]
  },
  {
   "cell_type": "code",
   "execution_count": 25,
   "metadata": {},
   "outputs": [],
   "source": [
    "strip_3_splittet = split_data(strip_3)"
   ]
  },
  {
   "cell_type": "code",
   "execution_count": 28,
   "metadata": {},
   "outputs": [],
   "source": [
    "def get_train_test_data(strip: pd.DataFrame):\n",
    "    X = strip2.drop('near',axis = 1)\n",
    "    Y = strip2['near']\n",
    "    X = X.fillna(X.mean())\n",
    "    X.head()\n",
    "    return train_test_split(X, Y, test_size = 0.15, random_state = 25)\n",
    "def scale_data(data: list):\n",
    "    sc = StandardScaler()\n",
    "    sc.fit(data[0])\n",
    "    sc.fit(data[1])\n",
    "    data[0] = sc.transform(data[0])\n",
    "    data[1] = sc.transform(data[1])\n",
    "def apply_forest(forest: RandomForestClassifier, train_data: list):\n",
    "    forest.fit(train_data[0], train_data[2])"
   ]
  },
  {
   "cell_type": "code",
   "execution_count": 36,
   "metadata": {},
   "outputs": [
    {
     "output_type": "execute_result",
     "data": {
      "text/plain": [
       "[array([[-0.18235098, -0.84369128, -1.38117179, ..., -1.08162677,\n",
       "         -1.0922403 , -0.52445254],\n",
       "        [ 0.60881327, -0.61224488,  0.49986923, ..., -1.08162677,\n",
       "         -1.0922403 ,  0.2671038 ],\n",
       "        [ 0.83486022, -0.61224488, -1.49873685, ..., -0.01195141,\n",
       "         -0.00787293,  0.66288197],\n",
       "        ...,\n",
       "        [ 0.72183672, -0.14935213, -0.79334649, ...,  0.86324598,\n",
       "          0.62588063,  1.45443831],\n",
       "        [ 0.72183672,  0.1978174 , -0.79334649, ..., -0.01195141,\n",
       "         -0.66271007, -0.92023071],\n",
       "        [-0.40839788,  1.3550493 , -0.79334649, ..., -0.01195141,\n",
       "         -0.00787293, -0.01214142]]),\n",
       " array([[ 0.83486022, -1.42230721,  1.55795479, ..., -0.01195141,\n",
       "         -0.00787293, -0.12867437],\n",
       "        [-0.97351518, -0.03362896,  1.79308494, ..., -0.01195141,\n",
       "         -0.00787293, -0.92023071],\n",
       "        [-0.29537443,  1.1236029 , -0.32308623, ..., -0.01195141,\n",
       "         -0.00787293, -0.01214142],\n",
       "        ...,\n",
       "        [ 0.38276637, -0.84369128, -0.79334649, ...,  1.5115369 ,\n",
       "         -0.00787293,  1.05866014],\n",
       "        [-0.97351518,  1.23932612, -0.20552113, ..., -1.08162677,\n",
       "         -0.66271007,  0.66288197],\n",
       "        [ 0.94788367, -0.03362896,  1.08769454, ..., -0.01195141,\n",
       "         -0.66271007, -0.12867437]]),\n",
       " 8166     0.0\n",
       " 8586     0.0\n",
       " 22341    0.0\n",
       " 11943    0.0\n",
       " 13400    0.0\n",
       "         ... \n",
       " 1160     0.0\n",
       " 21245    1.0\n",
       " 1175     1.0\n",
       " 2934     0.0\n",
       " 6618     0.0\n",
       " Name: near, Length: 19886, dtype: float64,\n",
       " 10539    0.0\n",
       " 34       1.0\n",
       " 19299    0.0\n",
       " 14603    0.0\n",
       " 9383     0.0\n",
       "         ... \n",
       " 23101    0.0\n",
       " 16296    0.0\n",
       " 935      0.0\n",
       " 2511     0.0\n",
       " 21854    0.0\n",
       " Name: near, Length: 3510, dtype: float64]"
      ]
     },
     "metadata": {},
     "execution_count": 36
    }
   ],
   "source": [
    "train_data_3 = get_train_test_data(strip_3) #X_train, X_test, Y_train, Y_test\n",
    "scale_data(train_data_3)"
   ]
  },
  {
   "cell_type": "code",
   "execution_count": 33,
   "metadata": {},
   "outputs": [],
   "source": [
    "#Random Forest\n",
    "forest = RandomForestClassifier(n_estimators=200, random_state = 0)\n",
    "apply_forest(forest, scaled_data_3)"
   ]
  },
  {
   "cell_type": "code",
   "execution_count": 34,
   "metadata": {},
   "outputs": [],
   "source": [
    "forest_prediction = forest.predict(scaled_data_3[1])"
   ]
  },
  {
   "cell_type": "code",
   "execution_count": 35,
   "metadata": {},
   "outputs": [
    {
     "output_type": "execute_result",
     "data": {
      "text/plain": [
       "0.9405461859817421"
      ]
     },
     "metadata": {},
     "execution_count": 35
    }
   ],
   "source": [
    "#accuracy_score(Y_test, forest_prediction)\n",
    "roc_auc_score(Y_test, forest_prediction)"
   ]
  },
  {
   "cell_type": "code",
   "execution_count": null,
   "metadata": {},
   "outputs": [],
   "source": []
  }
 ]
}